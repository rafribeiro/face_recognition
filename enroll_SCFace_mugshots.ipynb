{
 "cells": [
  {
   "cell_type": "markdown",
   "source": [
    "# Extract Features from SCFace images with ArcFace\n",
    "\n",
    "Images are processed with default model from arcface. Information of identity, camera and distance are also saved."
   ],
   "metadata": {}
  },
  {
   "cell_type": "code",
   "execution_count": 1,
   "source": [
    "import insightface\n",
    "import cv2\n",
    "import numpy as np\n",
    "import pickle\n",
    "import os\n",
    "import time\n",
    "import pandas as pd\n",
    "os.environ['MXNET_CUDNN_AUTOTUNE_DEFAULT']='0'"
   ],
   "outputs": [],
   "metadata": {}
  },
  {
   "cell_type": "code",
   "execution_count": 2,
   "source": [
    "cwd = os.getcwd()\n",
    "img_folder = '/media/rafael/Windows-SSD/recfac/bases/SCFace/SCface_database/mugshot_frontal_cropped_all'"
   ],
   "outputs": [],
   "metadata": {}
  },
  {
   "cell_type": "code",
   "execution_count": 3,
   "source": [
    "# Initialize model\n",
    "model = insightface.app.FaceAnalysis(ga_name=None)\n",
    "\n",
    "# set to -1 for CPU or positive for # of GPUs\n",
    "ctx_id = 0\n",
    "\n",
    "model.prepare(ctx_id = ctx_id, nms=0.4)"
   ],
   "outputs": [
    {
     "output_type": "stream",
     "name": "stdout",
     "text": [
      "[32, 16, 8] {'32': {'SCALES': (32, 16), 'BASE_SIZE': 16, 'RATIOS': (1.0,), 'ALLOWED_BORDER': 9999}, '16': {'SCALES': (8, 4), 'BASE_SIZE': 16, 'RATIOS': (1.0,), 'ALLOWED_BORDER': 9999}, '8': {'SCALES': (2, 1), 'BASE_SIZE': 16, 'RATIOS': (1.0,), 'ALLOWED_BORDER': 9999}}\n",
      "use_landmarks True\n"
     ]
    }
   ],
   "metadata": {}
  },
  {
   "cell_type": "code",
   "execution_count": 4,
   "source": [
    "def enroll(imgPath):\n",
    "    rgbImg = cv2.cvtColor(cv2.imread(imgPath),cv2.COLOR_BGR2RGB)\n",
    "    if rgbImg.shape[0] > 400 or rgbImg.shape[1] > 400:\n",
    "        ratio = 400./rgbImg.shape[0]\n",
    "        rgbImg = cv2.resize(rgbImg, None, fx = ratio, fy = ratio)\n",
    "    center = np.array([int(rgbImg.shape[0]/2),int(rgbImg.shape[1]/2)])\n",
    "    faces = model.get(rgbImg)\n",
    "    dist=[]\n",
    "    rep = np.zeros(512)\n",
    "    img_name = os.path.splitext(os.path.basename(imgPath))[0]\n",
    "    identity = img_name[0:3]\n",
    "    \n",
    "    # Indicate if no face is detected\n",
    "    if len(faces) == 0:\n",
    "        print(\"No face found on {}\".format(imgPath))\n",
    "        rep[:] = np.nan\n",
    "        status = \"no face\"\n",
    "        return status, identity, rep\n",
    "    \n",
    "    # Compute centroids of faces and distances from certer of image\n",
    "    for face in faces:\n",
    "        box=face.bbox.astype(np.int).flatten()\n",
    "        centroid = np.array([int((box[0]+box[2])/2),int((box[1]+box[3])/2)])\n",
    "        dist.append(np.linalg.norm(center-centroid))\n",
    "    \n",
    "    # Get embeddings of the face with centroid closest to the center of the image\n",
    "    idx_face = dist.index(min(dist))\n",
    "    rep = faces[idx_face].embedding\n",
    "    \n",
    "    status = \"ok\"    \n",
    "    return status, identity, rep"
   ],
   "outputs": [],
   "metadata": {}
  },
  {
   "cell_type": "code",
   "execution_count": null,
   "source": [
    "# Initialize the template dictionary\n",
    "templates = {}\n",
    "print (\"Enrolling faces.\")\n",
    "start_time = time.time()\n",
    "\n",
    "# Get list of images to enroll\n",
    "image_list = os.listdir(img_folder)\n",
    "number_of_images = len(image_list)\n",
    "\n",
    "# Loop through folder and extract the embedding for central face of each image\n",
    "for i,img in enumerate(image_list):\n",
    "    # Get the embedding for each face and store it in a template dictionary\n",
    "    print(\"Processing file {}. ({}/{})\".format(img,i+1,number_of_images),end='\\r')\n",
    "    imgPath = os.path.join(img_folder , img)\n",
    "    templates[img] = enroll(imgPath)\n",
    "\n",
    "# Write templates to gallery file\n",
    "print (\"\\nEnrolling {} files took {:0.2f} seconds.\".format(len(templates), time.time() - start_time))"
   ],
   "outputs": [],
   "metadata": {
    "tags": []
   }
  },
  {
   "cell_type": "code",
   "execution_count": 6,
   "source": [
    "#Create gallery file and write templates dictionary to it\n",
    "with open('scface_mugshots_cropped_400.gal',\"wb\") as gallery:\n",
    "    pickle.dump(templates, gallery)"
   ],
   "outputs": [],
   "metadata": {}
  },
  {
   "cell_type": "code",
   "execution_count": 8,
   "source": [
    "features_df = pd.DataFrame.from_dict(templates, orient='index', columns=['status','id','features'])\n",
    "features_df.head()"
   ],
   "outputs": [
    {
     "output_type": "execute_result",
     "data": {
      "text/plain": [
       "                status   id                                           features\n",
       "001_frontal.JPG     ok  001  [-0.2964732, 0.10427113, -0.64649826, 0.749349...\n",
       "002_frontal.JPG     ok  002  [0.1382779, 1.695791, 0.2079391, -2.1961703, -...\n",
       "003_frontal.JPG     ok  003  [1.449193, -0.69684964, 0.1824857, -0.04981476...\n",
       "004_frontal.JPG     ok  004  [0.4943828, 0.43095377, 0.39696738, 0.16549608...\n",
       "005_frontal.JPG     ok  005  [1.0114638, 0.54829, 0.25893757, 0.69848627, 0..."
      ],
      "text/html": [
       "<div>\n",
       "<style scoped>\n",
       "    .dataframe tbody tr th:only-of-type {\n",
       "        vertical-align: middle;\n",
       "    }\n",
       "\n",
       "    .dataframe tbody tr th {\n",
       "        vertical-align: top;\n",
       "    }\n",
       "\n",
       "    .dataframe thead th {\n",
       "        text-align: right;\n",
       "    }\n",
       "</style>\n",
       "<table border=\"1\" class=\"dataframe\">\n",
       "  <thead>\n",
       "    <tr style=\"text-align: right;\">\n",
       "      <th></th>\n",
       "      <th>status</th>\n",
       "      <th>id</th>\n",
       "      <th>features</th>\n",
       "    </tr>\n",
       "  </thead>\n",
       "  <tbody>\n",
       "    <tr>\n",
       "      <th>001_frontal.JPG</th>\n",
       "      <td>ok</td>\n",
       "      <td>001</td>\n",
       "      <td>[-0.2964732, 0.10427113, -0.64649826, 0.749349...</td>\n",
       "    </tr>\n",
       "    <tr>\n",
       "      <th>002_frontal.JPG</th>\n",
       "      <td>ok</td>\n",
       "      <td>002</td>\n",
       "      <td>[0.1382779, 1.695791, 0.2079391, -2.1961703, -...</td>\n",
       "    </tr>\n",
       "    <tr>\n",
       "      <th>003_frontal.JPG</th>\n",
       "      <td>ok</td>\n",
       "      <td>003</td>\n",
       "      <td>[1.449193, -0.69684964, 0.1824857, -0.04981476...</td>\n",
       "    </tr>\n",
       "    <tr>\n",
       "      <th>004_frontal.JPG</th>\n",
       "      <td>ok</td>\n",
       "      <td>004</td>\n",
       "      <td>[0.4943828, 0.43095377, 0.39696738, 0.16549608...</td>\n",
       "    </tr>\n",
       "    <tr>\n",
       "      <th>005_frontal.JPG</th>\n",
       "      <td>ok</td>\n",
       "      <td>005</td>\n",
       "      <td>[1.0114638, 0.54829, 0.25893757, 0.69848627, 0...</td>\n",
       "    </tr>\n",
       "  </tbody>\n",
       "</table>\n",
       "</div>"
      ]
     },
     "metadata": {},
     "execution_count": 8
    }
   ],
   "metadata": {}
  },
  {
   "cell_type": "code",
   "execution_count": 11,
   "source": [
    "#check how many images failed to enroll\n",
    "features_df.loc[features_df['status'] == 'no face'].groupby(['id']).count()['features']"
   ],
   "outputs": [
    {
     "output_type": "execute_result",
     "data": {
      "text/plain": [
       "Series([], Name: features, dtype: int64)"
      ]
     },
     "metadata": {},
     "execution_count": 11
    }
   ],
   "metadata": {}
  },
  {
   "cell_type": "code",
   "execution_count": 12,
   "source": [
    "#remove images that failed to enroll (status = 'no face')\n",
    "features_df = features_df[features_df.status == 'ok']\n",
    "len(features_df)"
   ],
   "outputs": [
    {
     "output_type": "execute_result",
     "data": {
      "text/plain": [
       "130"
      ]
     },
     "metadata": {},
     "execution_count": 12
    }
   ],
   "metadata": {}
  },
  {
   "cell_type": "code",
   "execution_count": 13,
   "source": [
    "ids = list(features_df['id'].unique())\n",
    "ids.sort()\n",
    "len(ids)"
   ],
   "outputs": [
    {
     "output_type": "execute_result",
     "data": {
      "text/plain": [
       "130"
      ]
     },
     "metadata": {},
     "execution_count": 13
    }
   ],
   "metadata": {
    "tags": []
   }
  },
  {
   "cell_type": "code",
   "execution_count": 15,
   "source": [
    "feat1, feat2 = features_df.loc['001_frontal.JPG']['features'], features_df.loc['002_frontal.JPG']['features']\n",
    "np.dot(feat1, feat2)/(np.linalg.norm(feat1)*np.linalg.norm(feat2))"
   ],
   "outputs": [
    {
     "output_type": "execute_result",
     "data": {
      "text/plain": [
       "0.039551493"
      ]
     },
     "metadata": {},
     "execution_count": 15
    }
   ],
   "metadata": {}
  }
 ],
 "metadata": {
  "kernelspec": {
   "name": "python3",
   "display_name": "Python 3.6.13 64-bit ('arcface': conda)"
  },
  "language_info": {
   "codemirror_mode": {
    "name": "ipython",
    "version": 3
   },
   "file_extension": ".py",
   "mimetype": "text/x-python",
   "name": "python",
   "nbconvert_exporter": "python",
   "pygments_lexer": "ipython3",
   "version": "3.6.13"
  },
  "interpreter": {
   "hash": "6a51dd89bee69d67aebfcfd88dbb09bb4f24a3d0b1bb309a3452e8b83779555d"
  }
 },
 "nbformat": 4,
 "nbformat_minor": 5
}