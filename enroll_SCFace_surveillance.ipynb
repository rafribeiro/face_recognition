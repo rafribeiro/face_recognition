{
 "cells": [
  {
   "source": [
    "# Extract Features from SCFace images with ArcFace\n",
    "\n",
    "Images are processed with default model from arcface. Information of identity, camera and distance are also saved."
   ],
   "cell_type": "markdown",
   "metadata": {}
  },
  {
   "cell_type": "code",
   "execution_count": 1,
   "id": "7fb5c4c3",
   "metadata": {},
   "outputs": [],
   "source": [
    "import insightface\n",
    "import cv2\n",
    "import numpy as np\n",
    "import pickle\n",
    "import os\n",
    "import time\n",
    "import csv\n",
    "import glob\n",
    "os.environ['MXNET_CUDNN_AUTOTUNE_DEFAULT']='0'"
   ]
  },
  {
   "cell_type": "code",
   "execution_count": 2,
   "id": "caf239e0",
   "metadata": {},
   "outputs": [],
   "source": [
    "cwd = os.getcwd()\n",
    "img_folder = '/media/rafael/Windows-SSD/recfac/bases/SCFace/SCface_database/surveillance_cameras_all'"
   ]
  },
  {
   "cell_type": "code",
   "execution_count": 3,
   "id": "8e65c388",
   "metadata": {},
   "outputs": [
    {
     "output_type": "execute_result",
     "data": {
      "text/plain": [
       "2.jpg',\n",
       " '042_cam4_3.jpg',\n",
       " '042_cam5_1.jpg',\n",
       " '042_cam5_2.jpg',\n",
       " '042_cam5_3.jpg',\n",
       " '042_cam6_2.jpg',\n",
       " '042_cam6_3.jpg',\n",
       " '042_cam7_1.jpg',\n",
       " '042_cam7_2.jpg',\n",
       " '042_cam7_3.jpg',\n",
       " '042_cam8.jpg',\n",
       " '043_cam1_1.jpg',\n",
       " '043_cam1_2.jpg',\n",
       " '043_cam1_3.jpg',\n",
       " '043_cam2_1.jpg',\n",
       " '043_cam2_2.jpg',\n",
       " '043_cam2_3.jpg',\n",
       " '043_cam3_1.jpg',\n",
       " '043_cam3_2.jpg',\n",
       " '043_cam3_3.jpg',\n",
       " '043_cam4_1.jpg',\n",
       " '043_cam4_2.jpg',\n",
       " '029_cam5_2.jpg',\n",
       " '030_cam4_1.jpg',\n",
       " '031_cam2_3.jpg',\n",
       " '032_cam1_2.jpg',\n",
       " '032_cam7_2.jpg',\n",
       " '033_cam6_1.jpg',\n",
       " '034_cam4_3.jpg',\n",
       " '035_cam3_2.jpg',\n",
       " '036_cam2_1.jpg',\n",
       " '036_cam8.jpg',\n",
       " '037_cam6_3.jpg',\n",
       " '038_cam5_2.jpg',\n",
       " '039_cam4_1.jpg',\n",
       " '040_cam2_3.jpg',\n",
       " '041_cam1_2.jpg',\n",
       " '041_cam7_2.jpg',\n",
       " '043_cam5_1.jpg',\n",
       " '043_cam5_2.jpg',\n",
       " '043_cam5_3.jpg',\n",
       " '043_cam6_1.jpg',\n",
       " '043_cam6_2.jpg',\n",
       " '043_cam6_3.jpg',\n",
       " '043_cam7_1.jpg',\n",
       " '043_cam7_2.jpg',\n",
       " '043_cam7_3.jpg',\n",
       " '043_cam8.jpg',\n",
       " '044_cam1_1.jpg',\n",
       " '044_cam1_2.jpg',\n",
       " '044_cam1_3.jpg',\n",
       " '044_cam2_1.jpg',\n",
       " '044_cam2_2.jpg',\n",
       " '044_cam2_3.jpg',\n",
       " '044_cam3_1.jpg',\n",
       " '044_cam3_3.jpg',\n",
       " '044_cam4_1.jpg',\n",
       " '044_cam4_2.jpg',\n",
       " '044_cam4_3.jpg',\n",
       " '044_cam5_1.jpg',\n",
       " '044_cam5_2.jpg',\n",
       " '044_cam5_3.jpg',\n",
       " '044_cam6_1.jpg',\n",
       " '044_cam6_2.jpg',\n",
       " '044_cam6_3.jpg',\n",
       " '044_cam7_1.jpg',\n",
       " '044_cam7_2.jpg',\n",
       " '044_cam7_3.jpg',\n",
       " '044_cam8.jpg',\n",
       " '045_cam1_1.jpg',\n",
       " '045_cam1_2.jpg',\n",
       " '045_cam1_3.jpg',\n",
       " '045_cam2_2.jpg',\n",
       " '045_cam2_3.jpg',\n",
       " '045_cam3_1.jpg',\n",
       " '045_cam3_2.jpg',\n",
       " '045_cam3_3.jpg',\n",
       " '045_cam4_1.jpg',\n",
       " '045_cam4_2.jpg',\n",
       " '045_cam4_3.jpg',\n",
       " '045_cam5_1.jpg',\n",
       " '045_cam5_2.jpg',\n",
       " '045_cam5_3.jpg',\n",
       " '045_cam6_1.jpg',\n",
       " '045_cam6_2.jpg',\n",
       " '045_cam6_3.jpg',\n",
       " '045_cam7_1.jpg',\n",
       " '045_cam7_2.jpg',\n",
       " '045_cam7_3.jpg',\n",
       " '046_cam1_1.jpg',\n",
       " '046_cam1_2.jpg',\n",
       " '046_cam1_3.jpg',\n",
       " '046_cam2_1.jpg',\n",
       " '046_cam2_2.jpg',\n",
       " '046_cam2_3.jpg',\n",
       " '046_cam3_1.jpg',\n",
       " '046_cam3_2.jpg',\n",
       " '046_cam3_3.jpg',\n",
       " '046_cam4_1.jpg',\n",
       " '046_cam4_2.jpg',\n",
       " '046_cam4_3.jpg',\n",
       " '046_cam5_1.jpg',\n",
       " '046_cam5_2.jpg',\n",
       " '046_cam5_3.jpg',\n",
       " '046_cam6_1.jpg',\n",
       " '046_cam6_2.jpg',\n",
       " ...]"
      ]
     },
     "metadata": {},
     "execution_count": 3
    }
   ],
   "source": [
    "os.listdir(img_folder)"
   ]
  },
  {
   "cell_type": "code",
   "execution_count": 5,
   "id": "38274a06",
   "metadata": {},
   "outputs": [
    {
     "output_type": "stream",
     "name": "stdout",
     "text": [
      "[32, 16, 8] {'32': {'SCALES': (32, 16), 'BASE_SIZE': 16, 'RATIOS': (1.0,), 'ALLOWED_BORDER': 9999}, '16': {'SCALES': (8, 4), 'BASE_SIZE': 16, 'RATIOS': (1.0,), 'ALLOWED_BORDER': 9999}, '8': {'SCALES': (2, 1), 'BASE_SIZE': 16, 'RATIOS': (1.0,), 'ALLOWED_BORDER': 9999}}\nuse_landmarks True\n"
     ]
    }
   ],
   "source": [
    "# Initialize model\n",
    "model = insightface.app.FaceAnalysis(ga_name=None)\n",
    "\n",
    "# set to -1 for CPU or positive for # of GPUs\n",
    "ctx_id = 0\n",
    "\n",
    "model.prepare(ctx_id = ctx_id, nms=0.4)"
   ]
  },
  {
   "cell_type": "code",
   "execution_count": 6,
   "id": "11c059ba",
   "metadata": {},
   "outputs": [],
   "source": [
    "def enroll(imgPath):\n",
    "    rgbImg = cv2.cvtColor(cv2.imread(imgPath),cv2.COLOR_BGR2RGB)\n",
    "    \"\"\"if rgbImg.shape[0] > 400 or rgbImg.shape[1] > 400:\n",
    "        ratio = 400./rgbImg.shape[0]\n",
    "        rgbImg = cv2.resize(rgbImg, None, fx = ratio, fy = ratio)\"\"\"\n",
    "    center = np.array([int(rgbImg.shape[0]/2),int(rgbImg.shape[1]/2)])\n",
    "    faces = model.get(rgbImg)\n",
    "    dist=[]\n",
    "    rep = np.zeros(512)\n",
    "    img_name = os.path.splitext(os.path.basename(imgPath))[0]\n",
    "    id = img_name[0:3]\n",
    "    cam = img_name[4:8]\n",
    "    distance = img_name[9:10]\n",
    "    \n",
    "    # Indicate if no face is detected\n",
    "    if len(faces) == 0:\n",
    "        print(\"No face found on {}\".format(imgPath))\n",
    "        rep[:] = np.nan\n",
    "        status = \"no face\"\n",
    "        return status, id, cam, distance, rep\n",
    "    \n",
    "    # Compute centroids of faces and distances from certer of image\n",
    "    for idx, face in enumerate(faces):\n",
    "        box=face.bbox.astype(np.int).flatten()\n",
    "        centroid = np.array([int((box[0]+box[2])/2),int((box[1]+box[3])/2)])\n",
    "        dist.append(np.linalg.norm(center-centroid))\n",
    "    \n",
    "    # Get embeddings of the face with centroid closest to the center of the image\n",
    "    idx_face = dist.index(min(dist))\n",
    "    rep = faces[idx_face].embedding\n",
    "    \n",
    "    status = \"ok\"    \n",
    "    return status, id, cam, distance, rep"
   ]
  },
  {
   "cell_type": "code",
   "execution_count": 7,
   "id": "8315ec83",
   "metadata": {
    "tags": [
     "outputPrepend"
    ]
   },
   "outputs": [
    {
     "output_type": "stream",
     "name": "stdout",
     "text": [
      "_cam5_1.jpg\n",
      "No face found on /media/rafael/Windows-SSD/recfac/bases/SCFace/SCface_database/surveillance_cameras_all/117_cam5_1.jpg\n",
      "No face found on /media/rafael/Windows-SSD/recfac/bases/SCFace/SCface_database/surveillance_cameras_all/117_cam7_2.jpg\n",
      "No face found on /media/rafael/Windows-SSD/recfac/bases/SCFace/SCface_database/surveillance_cameras_all/121_cam5_1.jpg\n",
      "No face found on /media/rafael/Windows-SSD/recfac/bases/SCFace/SCface_database/surveillance_cameras_all/122_cam7_1.jpg\n",
      "No face found on /media/rafael/Windows-SSD/recfac/bases/SCFace/SCface_database/surveillance_cameras_all/123_cam5_3.jpg\n",
      "No face found on /media/rafael/Windows-SSD/recfac/bases/SCFace/SCface_database/surveillance_cameras_all/123_cam7_1.jpg\n",
      "No face found on /media/rafael/Windows-SSD/recfac/bases/SCFace/SCface_database/surveillance_cameras_all/124_cam7_2.jpg\n",
      "No face found on /media/rafael/Windows-SSD/recfac/bases/SCFace/SCface_database/surveillance_cameras_all/125_cam1_1.jpg\n",
      "No face found on /media/rafael/Windows-SSD/recfac/bases/SCFace/SCface_database/surveillance_cameras_all/125_cam5_1.jpg\n",
      "No face found on /media/rafael/Windows-SSD/recfac/bases/SCFace/SCface_database/surveillance_cameras_all/125_cam5_2.jpg\n",
      "No face found on /media/rafael/Windows-SSD/recfac/bases/SCFace/SCface_database/surveillance_cameras_all/125_cam7_2.jpg\n",
      "No face found on /media/rafael/Windows-SSD/recfac/bases/SCFace/SCface_database/surveillance_cameras_all/127_cam1_1.jpg\n",
      "No face found on /media/rafael/Windows-SSD/recfac/bases/SCFace/SCface_database/surveillance_cameras_all/129_cam1_1.jpg\n",
      "No face found on /media/rafael/Windows-SSD/recfac/bases/SCFace/SCface_database/surveillance_cameras_all/130_cam1_1.jpg\n",
      "No face found on /media/rafael/Windows-SSD/recfac/bases/SCFace/SCface_database/surveillance_cameras_all/130_cam5_1.jpg\n",
      "No face found on /media/rafael/Windows-SSD/recfac/bases/SCFace/SCface_database/surveillance_cameras_all/130_cam7_1.jpg\n",
      "Processing file 130_cam8.jpg. (2859/2860)\n",
      "Enrolling 2860 files took 322.83 seconds.\n"
     ]
    }
   ],
   "source": [
    "# Initialize the template dictionary\n",
    "templates = {}\n",
    "print (\"Enrolling faces.\")\n",
    "start_time = time.time()\n",
    "\n",
    "# Get list of images to enroll\n",
    "image_list = os.listdir(img_folder)\n",
    "number_of_images = len(image_list)\n",
    "\n",
    "# Loop through folder and extract the embedding for central face of each image\n",
    "for i,img in enumerate(image_list):\n",
    "    # Get the embedding for each face and store it in a template dictionary\n",
    "    print(\"Processing file {}. ({}/{})\".format(img,i,number_of_images),end='\\r')\n",
    "    imgPath = os.path.join(img_folder , img)\n",
    "    templates[img] = enroll(imgPath)\n",
    "\n",
    "# Write templates to gallery file\n",
    "print (\"\\nEnrolling {} files took {:0.2f} seconds.\".format(len(templates), time.time() - start_time))"
   ]
  },
  {
   "cell_type": "code",
   "execution_count": 79,
   "id": "f39c825a",
   "metadata": {},
   "outputs": [],
   "source": [
    "#Create gallery file and write templates dictionary to it\n",
    "with open('scface_surveillance_nms0.2.gal',\"wb\") as gallery:\n",
    "    pickle.dump(templates, gallery)"
   ]
  },
  {
   "cell_type": "code",
   "execution_count": 8,
   "id": "64abe46b",
   "metadata": {},
   "outputs": [],
   "source": [
    "import pandas as pd"
   ]
  },
  {
   "cell_type": "code",
   "execution_count": 19,
   "id": "cb61a2b4",
   "metadata": {},
   "outputs": [
    {
     "output_type": "execute_result",
     "data": {
      "text/plain": [
       "               status   id   cam distance  \\\n",
       "001_cam1_1.jpg     ok  001  cam1        1   \n",
       "001_cam1_2.jpg     ok  001  cam1        2   \n",
       "001_cam1_3.jpg     ok  001  cam1        3   \n",
       "001_cam2_1.jpg     ok  001  cam2        1   \n",
       "001_cam2_2.jpg     ok  001  cam2        2   \n",
       "\n",
       "                                                         features  \n",
       "001_cam1_1.jpg  [-0.7638826, -0.5204826, -0.55712885, 1.693900...  \n",
       "001_cam1_2.jpg  [-0.106640525, -0.29566392, -2.4521015, 0.3750...  \n",
       "001_cam1_3.jpg  [1.2538581, -1.7230742, -0.0017990551, 1.30142...  \n",
       "001_cam2_1.jpg  [1.2045783, 1.1709319, -1.270426, 1.1458263, -...  \n",
       "001_cam2_2.jpg  [-0.048381254, 0.52329177, -2.4461622, 1.38223...  "
      ],
      "text/html": "<div>\n<style scoped>\n    .dataframe tbody tr th:only-of-type {\n        vertical-align: middle;\n    }\n\n    .dataframe tbody tr th {\n        vertical-align: top;\n    }\n\n    .dataframe thead th {\n        text-align: right;\n    }\n</style>\n<table border=\"1\" class=\"dataframe\">\n  <thead>\n    <tr style=\"text-align: right;\">\n      <th></th>\n      <th>status</th>\n      <th>id</th>\n      <th>cam</th>\n      <th>distance</th>\n      <th>features</th>\n    </tr>\n  </thead>\n  <tbody>\n    <tr>\n      <th>001_cam1_1.jpg</th>\n      <td>ok</td>\n      <td>001</td>\n      <td>cam1</td>\n      <td>1</td>\n      <td>[-0.7638826, -0.5204826, -0.55712885, 1.693900...</td>\n    </tr>\n    <tr>\n      <th>001_cam1_2.jpg</th>\n      <td>ok</td>\n      <td>001</td>\n      <td>cam1</td>\n      <td>2</td>\n      <td>[-0.106640525, -0.29566392, -2.4521015, 0.3750...</td>\n    </tr>\n    <tr>\n      <th>001_cam1_3.jpg</th>\n      <td>ok</td>\n      <td>001</td>\n      <td>cam1</td>\n      <td>3</td>\n      <td>[1.2538581, -1.7230742, -0.0017990551, 1.30142...</td>\n    </tr>\n    <tr>\n      <th>001_cam2_1.jpg</th>\n      <td>ok</td>\n      <td>001</td>\n      <td>cam2</td>\n      <td>1</td>\n      <td>[1.2045783, 1.1709319, -1.270426, 1.1458263, -...</td>\n    </tr>\n    <tr>\n      <th>001_cam2_2.jpg</th>\n      <td>ok</td>\n      <td>001</td>\n      <td>cam2</td>\n      <td>2</td>\n      <td>[-0.048381254, 0.52329177, -2.4461622, 1.38223...</td>\n    </tr>\n  </tbody>\n</table>\n</div>"
     },
     "metadata": {},
     "execution_count": 19
    }
   ],
   "source": [
    "features_df = pd.DataFrame.from_dict(templates, orient='index', columns=['status','id','cam','distance','features'])\n",
    "features_df.head()"
   ]
  },
  {
   "cell_type": "code",
   "execution_count": 20,
   "id": "a60cf3ab",
   "metadata": {},
   "outputs": [
    {
     "output_type": "execute_result",
     "data": {
      "text/plain": [
       "cam\n",
       "cam1    31\n",
       "cam2    13\n",
       "cam3     6\n",
       "cam4     3\n",
       "cam5    55\n",
       "cam6     1\n",
       "cam7    61\n",
       "Name: features, dtype: int64"
      ]
     },
     "metadata": {},
     "execution_count": 20
    }
   ],
   "source": [
    "#check how many images failed to enroll for each camera\n",
    "features_df.loc[features_df['status'] == 'no face'].groupby(['cam']).count()['features']"
   ]
  },
  {
   "cell_type": "code",
   "execution_count": 21,
   "id": "f385ed8c",
   "metadata": {},
   "outputs": [
    {
     "output_type": "execute_result",
     "data": {
      "text/plain": [
       "distance\n",
       "1    105\n",
       "2     54\n",
       "3     11\n",
       "Name: features, dtype: int64"
      ]
     },
     "metadata": {},
     "execution_count": 21
    }
   ],
   "source": [
    "#check how many images failed to enroll for each distance\n",
    "features_df.loc[features_df['status'] == 'no face'].groupby(['distance']).count()['features']"
   ]
  },
  {
   "cell_type": "code",
   "execution_count": 22,
   "metadata": {},
   "outputs": [
    {
     "output_type": "execute_result",
     "data": {
      "text/plain": [
       "2860"
      ]
     },
     "metadata": {},
     "execution_count": 22
    }
   ],
   "source": [
    "len(features_df)"
   ]
  },
  {
   "cell_type": "code",
   "execution_count": 23,
   "metadata": {},
   "outputs": [
    {
     "output_type": "execute_result",
     "data": {
      "text/plain": [
       "2690"
      ]
     },
     "metadata": {},
     "execution_count": 23
    }
   ],
   "source": [
    "#remove images that failed to enroll (status = 'no face')\n",
    "features_df = features_df[features_df.status == 'ok']\n",
    "len(features_df)"
   ]
  },
  {
   "cell_type": "code",
   "execution_count": 65,
   "metadata": {},
   "outputs": [
    {
     "output_type": "execute_result",
     "data": {
      "text/plain": [
       "1842"
      ]
     },
     "metadata": {},
     "execution_count": 65
    }
   ],
   "source": [
    "#remove images from IR cameras (cam6, cam7 and cam8)\n",
    "features_df= features_df[features_df.cam != 'cam6']\n",
    "features_df= features_df[features_df.cam != 'cam7']\n",
    "features_df= features_df[features_df.cam != 'cam8']\n",
    "len(features_df)"
   ]
  },
  {
   "cell_type": "code",
   "execution_count": 69,
   "metadata": {
    "tags": []
   },
   "outputs": [
    {
     "output_type": "execute_result",
     "data": {
      "text/plain": [
       "130"
      ]
     },
     "metadata": {},
     "execution_count": 69
    }
   ],
   "source": [
    "ids = list(features_df['id'].unique())\n",
    "ids.sort()\n",
    "len(ids)"
   ]
  },
  {
   "cell_type": "code",
   "execution_count": 67,
   "metadata": {},
   "outputs": [
    {
     "output_type": "execute_result",
     "data": {
      "text/plain": [
       "['cam1', 'cam2', 'cam3', 'cam4', 'cam5']"
      ]
     },
     "metadata": {},
     "execution_count": 67
    }
   ],
   "source": [
    "cams = list(features_df['cam'].unique())\n",
    "cams"
   ]
  },
  {
   "cell_type": "code",
   "execution_count": 70,
   "metadata": {},
   "outputs": [
    {
     "output_type": "execute_result",
     "data": {
      "text/plain": [
       "['1', '2', '3']"
      ]
     },
     "metadata": {},
     "execution_count": 70
    }
   ],
   "source": [
    "distances = list(features_df['distance'].unique())\n",
    "distances"
   ]
  },
  {
   "cell_type": "code",
   "execution_count": 18,
   "id": "71227b43",
   "metadata": {},
   "outputs": [
    {
     "output_type": "execute_result",
     "data": {
      "text/plain": [
       "0.094679445"
      ]
     },
     "metadata": {},
     "execution_count": 18
    }
   ],
   "source": [
    "feat1, feat2 = features_pd.loc['002_cam1_3.jpg']['features'], features_pd.loc['001_cam1_3.jpg']['features']\n",
    "np.dot(feat1, feat2)/(np.linalg.norm(feat1)*np.linalg.norm(feat2))"
   ]
  },
  {
   "cell_type": "code",
   "execution_count": 135,
   "id": "30476e1e",
   "metadata": {},
   "outputs": [
    {
     "data": {
      "text/plain": [
       "001_cam1_1.jpg    cam1\n",
       "001_cam1_2.jpg    cam1\n",
       "001_cam1_3.jpg    cam1\n",
       "001_cam2_1.jpg    cam2\n",
       "001_cam2_2.jpg    cam2\n",
       "                  ... \n",
       "130_cam6_3.jpg    cam6\n",
       "130_cam7_1.jpg    cam7\n",
       "130_cam7_2.jpg    cam7\n",
       "130_cam7_3.jpg    cam7\n",
       "130_cam8.jpg      cam8\n",
       "Name: cam, Length: 2860, dtype: object"
      ]
     },
     "execution_count": 135,
     "metadata": {},
     "output_type": "execute_result"
    }
   ],
   "source": [
    "features_pd['id']"
   ]
  },
  {
   "cell_type": "code",
   "execution_count": null,
   "id": "61e88276",
   "metadata": {},
   "outputs": [],
   "source": []
  }
 ],
 "metadata": {
  "kernelspec": {
   "name": "python3",
   "display_name": "Python 3.6.13 64-bit ('arcface': conda)"
  },
  "language_info": {
   "codemirror_mode": {
    "name": "ipython",
    "version": 3
   },
   "file_extension": ".py",
   "mimetype": "text/x-python",
   "name": "python",
   "nbconvert_exporter": "python",
   "pygments_lexer": "ipython3",
   "version": "3.6.13"
  },
  "interpreter": {
   "hash": "6a51dd89bee69d67aebfcfd88dbb09bb4f24a3d0b1bb309a3452e8b83779555d"
  }
 },
 "nbformat": 4,
 "nbformat_minor": 5
}